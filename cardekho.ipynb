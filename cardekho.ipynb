{
 "cells": [
  {
   "cell_type": "code",
   "execution_count": 3,
   "id": "a867db9f",
   "metadata": {},
   "outputs": [
    {
     "data": {
      "text/html": [
       "<div>\n",
       "<style scoped>\n",
       "    .dataframe tbody tr th:only-of-type {\n",
       "        vertical-align: middle;\n",
       "    }\n",
       "\n",
       "    .dataframe tbody tr th {\n",
       "        vertical-align: top;\n",
       "    }\n",
       "\n",
       "    .dataframe thead th {\n",
       "        text-align: right;\n",
       "    }\n",
       "</style>\n",
       "<table border=\"1\" class=\"dataframe\">\n",
       "  <thead>\n",
       "    <tr style=\"text-align: right;\">\n",
       "      <th></th>\n",
       "      <th>Name</th>\n",
       "      <th>year</th>\n",
       "      <th>selling_price</th>\n",
       "      <th>km_driven</th>\n",
       "      <th>fuel</th>\n",
       "      <th>seller_type</th>\n",
       "      <th>transmission</th>\n",
       "      <th>owner</th>\n",
       "      <th>mileage</th>\n",
       "      <th>engine</th>\n",
       "      <th>max_power</th>\n",
       "      <th>torque</th>\n",
       "      <th>seats</th>\n",
       "    </tr>\n",
       "  </thead>\n",
       "  <tbody>\n",
       "    <tr>\n",
       "      <th>0</th>\n",
       "      <td>Maruti Alto 800 LXI Opt</td>\n",
       "      <td>2023</td>\n",
       "      <td>410000</td>\n",
       "      <td>10000</td>\n",
       "      <td>Petrol</td>\n",
       "      <td>Individual</td>\n",
       "      <td>Manual</td>\n",
       "      <td>First Owner</td>\n",
       "      <td>19.03 kmpl</td>\n",
       "      <td>999 CC</td>\n",
       "      <td>71.01bhp</td>\n",
       "      <td>96Nm</td>\n",
       "      <td>5.0</td>\n",
       "    </tr>\n",
       "    <tr>\n",
       "      <th>1</th>\n",
       "      <td>Skoda Slavia 1.0 TSI Ambition</td>\n",
       "      <td>2023</td>\n",
       "      <td>1350000</td>\n",
       "      <td>10000</td>\n",
       "      <td>Petrol</td>\n",
       "      <td>Individual</td>\n",
       "      <td>Manual</td>\n",
       "      <td>First Owner</td>\n",
       "      <td>14.08 kmpl</td>\n",
       "      <td>1956 CC</td>\n",
       "      <td>167.67bhp</td>\n",
       "      <td>350nm</td>\n",
       "      <td>5.0</td>\n",
       "    </tr>\n",
       "    <tr>\n",
       "      <th>2</th>\n",
       "      <td>BMW 3 Series Gran Limousine 320Ld Luxury Line</td>\n",
       "      <td>2023</td>\n",
       "      <td>5800000</td>\n",
       "      <td>1000</td>\n",
       "      <td>Diesel</td>\n",
       "      <td>Dealer</td>\n",
       "      <td>Automatic</td>\n",
       "      <td>First Owner</td>\n",
       "      <td>18.15 kmpl</td>\n",
       "      <td>998 CC</td>\n",
       "      <td>118.35bhp</td>\n",
       "      <td>172Nm</td>\n",
       "      <td>5.0</td>\n",
       "    </tr>\n",
       "    <tr>\n",
       "      <th>3</th>\n",
       "      <td>MG ZS EV Exclusive</td>\n",
       "      <td>2023</td>\n",
       "      <td>2650000</td>\n",
       "      <td>10000</td>\n",
       "      <td>Electric</td>\n",
       "      <td>Dealer</td>\n",
       "      <td>Automatic</td>\n",
       "      <td>First Owner</td>\n",
       "      <td>32.52 kmpl</td>\n",
       "      <td>998 CC</td>\n",
       "      <td>58.33bhp</td>\n",
       "      <td>78Nm</td>\n",
       "      <td>5.0</td>\n",
       "    </tr>\n",
       "    <tr>\n",
       "      <th>4</th>\n",
       "      <td>Tata Punch Adventure</td>\n",
       "      <td>2023</td>\n",
       "      <td>715000</td>\n",
       "      <td>10000</td>\n",
       "      <td>Petrol</td>\n",
       "      <td>Individual</td>\n",
       "      <td>Manual</td>\n",
       "      <td>First Owner</td>\n",
       "      <td>12.15 kmpl</td>\n",
       "      <td>1451 CC</td>\n",
       "      <td>141bhp</td>\n",
       "      <td>250Nm</td>\n",
       "      <td>5.0</td>\n",
       "    </tr>\n",
       "    <tr>\n",
       "      <th>5</th>\n",
       "      <td>Maruti S-Presso VXi Plus</td>\n",
       "      <td>2023</td>\n",
       "      <td>450000</td>\n",
       "      <td>30171</td>\n",
       "      <td>Petrol</td>\n",
       "      <td>Individual</td>\n",
       "      <td>Manual</td>\n",
       "      <td>First Owner</td>\n",
       "      <td>19.03 kmpl</td>\n",
       "      <td>999 CC</td>\n",
       "      <td>71.01bhp</td>\n",
       "      <td>96Nm</td>\n",
       "      <td>5.0</td>\n",
       "    </tr>\n",
       "    <tr>\n",
       "      <th>6</th>\n",
       "      <td>Maruti S-Presso LXi</td>\n",
       "      <td>2022</td>\n",
       "      <td>425000</td>\n",
       "      <td>1994</td>\n",
       "      <td>Petrol</td>\n",
       "      <td>Dealer</td>\n",
       "      <td>Manual</td>\n",
       "      <td>First Owner</td>\n",
       "      <td>19.47 kmpl</td>\n",
       "      <td>999 CC</td>\n",
       "      <td>113.98bhp</td>\n",
       "      <td>178Nm</td>\n",
       "      <td>5.0</td>\n",
       "    </tr>\n",
       "    <tr>\n",
       "      <th>7</th>\n",
       "      <td>Hyundai Creta SX Turbo</td>\n",
       "      <td>2022</td>\n",
       "      <td>1895000</td>\n",
       "      <td>22000</td>\n",
       "      <td>Petrol</td>\n",
       "      <td>Individual</td>\n",
       "      <td>Automatic</td>\n",
       "      <td>First Owner</td>\n",
       "      <td>12.15 kmpl</td>\n",
       "      <td>1997 CC</td>\n",
       "      <td>296.3bhp</td>\n",
       "      <td>400Nm</td>\n",
       "      <td>5.0</td>\n",
       "    </tr>\n",
       "    <tr>\n",
       "      <th>8</th>\n",
       "      <td>Renault Kiger RXT AMT Opt DT</td>\n",
       "      <td>2022</td>\n",
       "      <td>842000</td>\n",
       "      <td>6424</td>\n",
       "      <td>Petrol</td>\n",
       "      <td>Individual</td>\n",
       "      <td>Automatic</td>\n",
       "      <td>First Owner</td>\n",
       "      <td>14.08 kmpl</td>\n",
       "      <td>1956 CC</td>\n",
       "      <td>167.67bhp</td>\n",
       "      <td>350nm</td>\n",
       "      <td>5.0</td>\n",
       "    </tr>\n",
       "    <tr>\n",
       "      <th>9</th>\n",
       "      <td>Renault KWID CLIMBER</td>\n",
       "      <td>2022</td>\n",
       "      <td>567000</td>\n",
       "      <td>5148</td>\n",
       "      <td>Petrol</td>\n",
       "      <td>Dealer</td>\n",
       "      <td>Manual</td>\n",
       "      <td>First Owner</td>\n",
       "      <td>18.15 kmpl</td>\n",
       "      <td>998 CC</td>\n",
       "      <td>118.35bhp</td>\n",
       "      <td>172Nm</td>\n",
       "      <td>5.0</td>\n",
       "    </tr>\n",
       "  </tbody>\n",
       "</table>\n",
       "</div>"
      ],
      "text/plain": [
       "                                             Name  year  selling_price   \n",
       "0                         Maruti Alto 800 LXI Opt  2023         410000  \\\n",
       "1                   Skoda Slavia 1.0 TSI Ambition  2023        1350000   \n",
       "2   BMW 3 Series Gran Limousine 320Ld Luxury Line  2023        5800000   \n",
       "3                              MG ZS EV Exclusive  2023        2650000   \n",
       "4                            Tata Punch Adventure  2023         715000   \n",
       "5                        Maruti S-Presso VXi Plus  2023         450000   \n",
       "6                             Maruti S-Presso LXi  2022         425000   \n",
       "7                          Hyundai Creta SX Turbo  2022        1895000   \n",
       "8                    Renault Kiger RXT AMT Opt DT  2022         842000   \n",
       "9                            Renault KWID CLIMBER  2022         567000   \n",
       "\n",
       "   km_driven      fuel seller_type transmission        owner     mileage   \n",
       "0      10000    Petrol  Individual       Manual  First Owner  19.03 kmpl  \\\n",
       "1      10000    Petrol  Individual       Manual  First Owner  14.08 kmpl   \n",
       "2       1000    Diesel      Dealer    Automatic  First Owner  18.15 kmpl   \n",
       "3      10000  Electric      Dealer    Automatic  First Owner  32.52 kmpl   \n",
       "4      10000    Petrol  Individual       Manual  First Owner  12.15 kmpl   \n",
       "5      30171    Petrol  Individual       Manual  First Owner  19.03 kmpl   \n",
       "6       1994    Petrol      Dealer       Manual  First Owner  19.47 kmpl   \n",
       "7      22000    Petrol  Individual    Automatic  First Owner  12.15 kmpl   \n",
       "8       6424    Petrol  Individual    Automatic  First Owner  14.08 kmpl   \n",
       "9       5148    Petrol      Dealer       Manual  First Owner  18.15 kmpl   \n",
       "\n",
       "    engine  max_power torque  seats  \n",
       "0   999 CC   71.01bhp   96Nm    5.0  \n",
       "1  1956 CC  167.67bhp  350nm    5.0  \n",
       "2   998 CC  118.35bhp  172Nm    5.0  \n",
       "3   998 CC   58.33bhp   78Nm    5.0  \n",
       "4  1451 CC     141bhp  250Nm    5.0  \n",
       "5   999 CC   71.01bhp   96Nm    5.0  \n",
       "6   999 CC  113.98bhp  178Nm    5.0  \n",
       "7  1997 CC   296.3bhp  400Nm    5.0  \n",
       "8  1956 CC  167.67bhp  350nm    5.0  \n",
       "9   998 CC  118.35bhp  172Nm    5.0  "
      ]
     },
     "execution_count": 3,
     "metadata": {},
     "output_type": "execute_result"
    }
   ],
   "source": [
    "df.head(10)"
   ]
  },
  {
   "cell_type": "code",
   "execution_count": 5,
   "id": "d6101a48",
   "metadata": {},
   "outputs": [
    {
     "name": "stdout",
     "output_type": "stream",
     "text": [
      "<class 'pandas.core.frame.DataFrame'>\n",
      "RangeIndex: 8148 entries, 0 to 8147\n",
      "Data columns (total 13 columns):\n",
      " #   Column         Non-Null Count  Dtype  \n",
      "---  ------         --------------  -----  \n",
      " 0   Name           8148 non-null   object \n",
      " 1   year           8148 non-null   int64  \n",
      " 2   selling_price  8148 non-null   int64  \n",
      " 3   km_driven      8148 non-null   int64  \n",
      " 4   fuel           8148 non-null   object \n",
      " 5   seller_type    8148 non-null   object \n",
      " 6   transmission   8148 non-null   object \n",
      " 7   owner          8148 non-null   object \n",
      " 8   mileage        7927 non-null   object \n",
      " 9   engine         7927 non-null   object \n",
      " 10  max_power      7933 non-null   object \n",
      " 11  torque         7926 non-null   object \n",
      " 12  seats          7927 non-null   float64\n",
      "dtypes: float64(1), int64(3), object(9)\n",
      "memory usage: 827.7+ KB\n"
     ]
    }
   ],
   "source": [
    "df.info()"
   ]
  },
  {
   "cell_type": "code",
   "execution_count": 6,
   "id": "86f94278",
   "metadata": {},
   "outputs": [
    {
     "data": {
      "text/html": [
       "<div>\n",
       "<style scoped>\n",
       "    .dataframe tbody tr th:only-of-type {\n",
       "        vertical-align: middle;\n",
       "    }\n",
       "\n",
       "    .dataframe tbody tr th {\n",
       "        vertical-align: top;\n",
       "    }\n",
       "\n",
       "    .dataframe thead th {\n",
       "        text-align: right;\n",
       "    }\n",
       "</style>\n",
       "<table border=\"1\" class=\"dataframe\">\n",
       "  <thead>\n",
       "    <tr style=\"text-align: right;\">\n",
       "      <th></th>\n",
       "      <th>year</th>\n",
       "      <th>selling_price</th>\n",
       "      <th>km_driven</th>\n",
       "      <th>seats</th>\n",
       "    </tr>\n",
       "  </thead>\n",
       "  <tbody>\n",
       "    <tr>\n",
       "      <th>count</th>\n",
       "      <td>8148.000000</td>\n",
       "      <td>8.148000e+03</td>\n",
       "      <td>8.148000e+03</td>\n",
       "      <td>7927.000000</td>\n",
       "    </tr>\n",
       "    <tr>\n",
       "      <th>mean</th>\n",
       "      <td>2013.824006</td>\n",
       "      <td>6.401217e+05</td>\n",
       "      <td>6.967571e+04</td>\n",
       "      <td>5.415668</td>\n",
       "    </tr>\n",
       "    <tr>\n",
       "      <th>std</th>\n",
       "      <td>4.059542</td>\n",
       "      <td>8.085638e+05</td>\n",
       "      <td>5.655716e+04</td>\n",
       "      <td>0.958604</td>\n",
       "    </tr>\n",
       "    <tr>\n",
       "      <th>min</th>\n",
       "      <td>1983.000000</td>\n",
       "      <td>2.999900e+04</td>\n",
       "      <td>1.000000e+00</td>\n",
       "      <td>2.000000</td>\n",
       "    </tr>\n",
       "    <tr>\n",
       "      <th>25%</th>\n",
       "      <td>2011.000000</td>\n",
       "      <td>2.549990e+05</td>\n",
       "      <td>3.500000e+04</td>\n",
       "      <td>5.000000</td>\n",
       "    </tr>\n",
       "    <tr>\n",
       "      <th>50%</th>\n",
       "      <td>2015.000000</td>\n",
       "      <td>4.500000e+05</td>\n",
       "      <td>6.000000e+04</td>\n",
       "      <td>5.000000</td>\n",
       "    </tr>\n",
       "    <tr>\n",
       "      <th>75%</th>\n",
       "      <td>2017.000000</td>\n",
       "      <td>6.750000e+05</td>\n",
       "      <td>9.750000e+04</td>\n",
       "      <td>5.000000</td>\n",
       "    </tr>\n",
       "    <tr>\n",
       "      <th>max</th>\n",
       "      <td>2023.000000</td>\n",
       "      <td>1.000000e+07</td>\n",
       "      <td>2.360457e+06</td>\n",
       "      <td>14.000000</td>\n",
       "    </tr>\n",
       "  </tbody>\n",
       "</table>\n",
       "</div>"
      ],
      "text/plain": [
       "              year  selling_price     km_driven        seats\n",
       "count  8148.000000   8.148000e+03  8.148000e+03  7927.000000\n",
       "mean   2013.824006   6.401217e+05  6.967571e+04     5.415668\n",
       "std       4.059542   8.085638e+05  5.655716e+04     0.958604\n",
       "min    1983.000000   2.999900e+04  1.000000e+00     2.000000\n",
       "25%    2011.000000   2.549990e+05  3.500000e+04     5.000000\n",
       "50%    2015.000000   4.500000e+05  6.000000e+04     5.000000\n",
       "75%    2017.000000   6.750000e+05  9.750000e+04     5.000000\n",
       "max    2023.000000   1.000000e+07  2.360457e+06    14.000000"
      ]
     },
     "execution_count": 6,
     "metadata": {},
     "output_type": "execute_result"
    }
   ],
   "source": [
    "df.describe()"
   ]
  },
  {
   "cell_type": "code",
   "execution_count": 7,
   "id": "2de7e4f5",
   "metadata": {},
   "outputs": [
    {
     "data": {
      "text/plain": [
       "Name               0\n",
       "year               0\n",
       "selling_price      0\n",
       "km_driven          0\n",
       "fuel               0\n",
       "seller_type        0\n",
       "transmission       0\n",
       "owner              0\n",
       "mileage          221\n",
       "engine           221\n",
       "max_power        215\n",
       "torque           222\n",
       "seats            221\n",
       "dtype: int64"
      ]
     },
     "execution_count": 7,
     "metadata": {},
     "output_type": "execute_result"
    }
   ],
   "source": [
    "pd.isnull(df).sum()"
   ]
  },
  {
   "cell_type": "code",
   "execution_count": 10,
   "id": "0275021d",
   "metadata": {},
   "outputs": [
    {
     "data": {
      "text/plain": [
       "(8148, 13)"
      ]
     },
     "execution_count": 10,
     "metadata": {},
     "output_type": "execute_result"
    }
   ],
   "source": [
    "df.shape"
   ]
  },
  {
   "cell_type": "code",
   "execution_count": 11,
   "id": "4c99d33a",
   "metadata": {},
   "outputs": [
    {
     "data": {
      "text/html": [
       "<div>\n",
       "<style scoped>\n",
       "    .dataframe tbody tr th:only-of-type {\n",
       "        vertical-align: middle;\n",
       "    }\n",
       "\n",
       "    .dataframe tbody tr th {\n",
       "        vertical-align: top;\n",
       "    }\n",
       "\n",
       "    .dataframe thead th {\n",
       "        text-align: right;\n",
       "    }\n",
       "</style>\n",
       "<table border=\"1\" class=\"dataframe\">\n",
       "  <thead>\n",
       "    <tr style=\"text-align: right;\">\n",
       "      <th></th>\n",
       "      <th>Name</th>\n",
       "      <th>fuel</th>\n",
       "      <th>seller_type</th>\n",
       "      <th>transmission</th>\n",
       "      <th>owner</th>\n",
       "      <th>mileage</th>\n",
       "      <th>engine</th>\n",
       "      <th>max_power</th>\n",
       "      <th>torque</th>\n",
       "    </tr>\n",
       "  </thead>\n",
       "  <tbody>\n",
       "    <tr>\n",
       "      <th>count</th>\n",
       "      <td>8148</td>\n",
       "      <td>8148</td>\n",
       "      <td>8148</td>\n",
       "      <td>8148</td>\n",
       "      <td>8148</td>\n",
       "      <td>7927</td>\n",
       "      <td>7927</td>\n",
       "      <td>7933</td>\n",
       "      <td>7926</td>\n",
       "    </tr>\n",
       "    <tr>\n",
       "      <th>unique</th>\n",
       "      <td>2076</td>\n",
       "      <td>5</td>\n",
       "      <td>3</td>\n",
       "      <td>4</td>\n",
       "      <td>5</td>\n",
       "      <td>398</td>\n",
       "      <td>121</td>\n",
       "      <td>331</td>\n",
       "      <td>449</td>\n",
       "    </tr>\n",
       "    <tr>\n",
       "      <th>top</th>\n",
       "      <td>Maruti Swift Dzire VDI</td>\n",
       "      <td>Diesel</td>\n",
       "      <td>Individual</td>\n",
       "      <td>Manual</td>\n",
       "      <td>First Owner</td>\n",
       "      <td>18.9 kmpl</td>\n",
       "      <td>1248 CC</td>\n",
       "      <td>74 bhp</td>\n",
       "      <td>190Nm@ 2000rpm</td>\n",
       "    </tr>\n",
       "    <tr>\n",
       "      <th>freq</th>\n",
       "      <td>129</td>\n",
       "      <td>4407</td>\n",
       "      <td>6780</td>\n",
       "      <td>7078</td>\n",
       "      <td>5306</td>\n",
       "      <td>225</td>\n",
       "      <td>1017</td>\n",
       "      <td>377</td>\n",
       "      <td>530</td>\n",
       "    </tr>\n",
       "  </tbody>\n",
       "</table>\n",
       "</div>"
      ],
      "text/plain": [
       "                          Name    fuel seller_type transmission        owner   \n",
       "count                     8148    8148        8148         8148         8148  \\\n",
       "unique                    2076       5           3            4            5   \n",
       "top     Maruti Swift Dzire VDI  Diesel  Individual       Manual  First Owner   \n",
       "freq                       129    4407        6780         7078         5306   \n",
       "\n",
       "          mileage   engine max_power          torque  \n",
       "count        7927     7927      7933            7926  \n",
       "unique        398      121       331             449  \n",
       "top     18.9 kmpl  1248 CC    74 bhp  190Nm@ 2000rpm  \n",
       "freq          225     1017       377             530  "
      ]
     },
     "execution_count": 11,
     "metadata": {},
     "output_type": "execute_result"
    }
   ],
   "source": [
    "df.describe(include='object')"
   ]
  },
  {
   "cell_type": "code",
   "execution_count": 12,
   "id": "8eaed5ab",
   "metadata": {},
   "outputs": [
    {
     "name": "stdout",
     "output_type": "stream",
     "text": [
      "Name\n",
      "[' Maruti Alto 800 LXI Opt' ' Skoda Slavia 1.0 TSI Ambition'\n",
      " ' BMW 3 Series Gran Limousine 320Ld Luxury Line' ...\n",
      " 'Mahindra Jeep Classic' 'Ambassador Classic 2000 DSZ AC PS'\n",
      " 'Mahindra Willys CJ 3B 4X4']\n",
      "--------------------------------------------------\n",
      "fuel\n",
      "['Petrol' 'Diesel' 'Electric' 'CNG' 'LPG']\n",
      "--------------------------------------------------\n",
      "seller_type\n",
      "['Individual' 'Dealer' 'Trustmark Dealer']\n",
      "--------------------------------------------------\n",
      "transmission\n",
      "[' Manual' ' Automatic' 'Automatic' 'Manual']\n",
      "--------------------------------------------------\n",
      "owner\n",
      "['First Owner' 'Second Owner' 'Test Drive Car' 'Third Owner'\n",
      " 'Fourth & Above Owner']\n",
      "--------------------------------------------------\n",
      "mileage\n",
      "['19.03 kmpl' '14.08 kmpl' '18.15 kmpl' '32.52 kmpl' '12.15 kmpl'\n",
      " '19.47 kmpl' '21.01 kmpl' '13.38 kmpl' '19.02 kmpl' '22.5 kmpl'\n",
      " '19.0 kmpl' '26.8 kmpl' '22.1 kmpl' '17.01 kmpl' '18.6 kmpl' '20.7 kmpl'\n",
      " '18.9 kmpl' '20.3 kmpl' '20.14 kmpl' '17.8 kmpl' '0.0 kmpl' '25.32 kmpl'\n",
      " '16.36 kmpl' '15.1 kmpl' '22.05 kmpl' '33.0 km/kg' '23.95 kmpl'\n",
      " '21.63 kmpl' '23.26 kmpl' '15.37 kmpl' '20.88 km/kg' '21.94 km/kg'\n",
      " '20.89 kmpl' '21.21 kmpl' '24.3 kmpl' '18.76 kmpl' '21.79 kmpl'\n",
      " '13.96 kmpl' '17.0 kmpl' '23.84 kmpl' '17.57 kmpl' '15.04 kmpl'\n",
      " '13.68 kmpl' '10.75 kmpl' '21.66 kmpl' '18.24 kmpl' '15.26 kmpl'\n",
      " '18.12 kmpl' '16.78 kmpl' '19.72 kmpl' '19.83 kmpl' '22.7 kmpl'\n",
      " '19.4 kmpl' '21.7 kmpl' '23.0 kmpl' '18.16 kmpl' '18.5 kmpl' '24.4 kmpl'\n",
      " '23.8 kmpl' '19.5 kmpl' '27.4 kmpl' '21.9 kmpl' '25.6 kmpl' '18.0 kmpl'\n",
      " '17.4 kmpl' '16.5 kmpl' '18.2 kmpl' '25.5 kmpl' '17.5 kmpl' '21.38 kmpl'\n",
      " '15.8 kmpl' '22.54 kmpl' '24.0 kmpl' '17.19 kmpl' '22.0 kmpl' '25.4 kmpl'\n",
      " '12.4 kmpl' '13.8 kmpl' '16.0 kmpl' '16.3 kmpl' '17.1 kmpl' '20.8 kmpl'\n",
      " '12.83 kmpl' '22.37 kmpl' '15.96 kmpl' '17.3 kmpl' '16.55 kmpl'\n",
      " '18.06 kmpl' '18.49 kmpl' '20.0 kmpl' '33.44 km/kg' '32.26 km/kg'\n",
      " '21.4 kmpl' '21.1 kmpl' '28.09 kmpl' '20.28 kmpl' '24.52 kmpl'\n",
      " '25.47 kmpl' '11.96 kmpl' '25.1 kmpl' '28.4 kmpl' '26.6 km/kg'\n",
      " '20.52 kmpl' '19.01 kmpl' '15.0 kmpl' '14.23 kmpl' '20.45 kmpl'\n",
      " '23.01 kmpl' '25.17 kmpl' '19.3 kmpl' '15.41 kmpl' '14.84 kmpl'\n",
      " '22.95 kmpl' '17.6 kmpl' '21.5 kmpl' '14.1 kmpl' '27.28 kmpl' '24.7 kmpl'\n",
      " '19.56 kmpl' '23.87 kmpl' '11.36 kmpl' '19.44 kmpl' '18.78 kmpl'\n",
      " '16.2 kmpl' '22.27 kmpl' '20.38 kmpl' '18.25 kmpl' '15.73 kmpl'\n",
      " '15.17 kmpl' '22.48 kmpl' '17.09 kmpl' '17.05 kmpl' '19.62 kmpl'\n",
      " '20.62 kmpl' '20.63 kmpl' '26.1 kmpl' '20.4 kmpl' '15.9 kmpl'\n",
      " '22.77 kmpl' '10.91 kmpl' '25.83 kmpl' nan '18.1 kmpl' '25.8 kmpl'\n",
      " '18.7 kmpl' '27.3 kmpl' '19.67 kmpl' '14.8 kmpl' '21.19 kmpl'\n",
      " '17.36 kmpl' '21.0 kmpl' '15.4 kmpl' '23.5 kmpl' '21.03 kmpl'\n",
      " '14.95 kmpl' '27.39 kmpl' '23.1 kmpl' '20.73 kmpl' '21.56 kmpl'\n",
      " '20.65 kmpl' '24.2 kmpl' '16.02 kmpl' '19.34 kmpl' '16.8 kmpl'\n",
      " '19.1 kmpl' '23.4 kmpl' '26.59 kmpl' '16.1 kmpl' '20.51 kmpl' '17.9 kmpl'\n",
      " '22.71 kmpl' '19.87 kmpl' '20.37 kmpl' '19.6 kmpl' '14.99 kmpl'\n",
      " '24.04 kmpl' '20.71 kmpl' '21.04 kmpl' '16.25 kmpl' '21.13 kmpl'\n",
      " '14.67 kmpl' '25.0 kmpl' '15.3 kmpl' '14.28 kmpl' '23.59 kmpl'\n",
      " '12.9 kmpl' '14.24 kmpl' '21.73 kmpl' '22.15 kmpl' '11.2 kmpl'\n",
      " '16.6 kmpl' '22.69 kmpl' '19.59 kmpl' '24.29 kmpl' '26.0 kmpl'\n",
      " '15.6 kmpl' '12.0 kmpl' '20.5 kmpl' '15.29 kmpl' '19.81 kmpl' '24.8 kmpl'\n",
      " '23.9 kmpl' '22.32 kmpl' '13.6 kmpl' '19.33 kmpl' '9.5 kmpl' '17.45 kmpl'\n",
      " '14.0 kmpl' '20.85 kmpl' '25.2 kmpl' '23.65 kmpl' '14.74 kmpl'\n",
      " '13.5 kmpl' '19.49 kmpl' '19.61 kmpl' '19.98 kmpl' '23.08 kmpl'\n",
      " '14.7 kmpl' '21.14 kmpl' '21.72 kmpl' '15.64 kmpl' '19.09 kmpl'\n",
      " '13.93 kmpl' '14.07 kmpl' '21.43 kmpl' '14.53 kmpl' '17.71 kmpl'\n",
      " '12.55 kmpl' '42.0 kmpl' '21.76 kmpl' '15.71 kmpl' '25.44 kmpl'\n",
      " '14.81 kmpl' '13.58 kmpl' '12.2 kmpl' '11.45 kmpl' '15.7 kmpl'\n",
      " '15.85 kmpl' '12.62 kmpl' '13.7 kmpl' '16.38 kmpl' '17.43 kmpl'\n",
      " '19.08 kmpl' '16.9 kmpl' '12.08 kmpl' '17.21 kmpl' '11.0 kmpl'\n",
      " '14.02 kmpl' '22.74 kmpl' '27.62 kmpl' '20.77 kmpl' '23.2 kmpl'\n",
      " '19.7 kmpl' '13.0 kmpl' '19.64 kmpl' '14.3 kmpl' '17.88 kmpl'\n",
      " '19.16 kmpl' '12.99 kmpl' '16.34 kmpl' '16.96 kmpl' '21.49 kmpl'\n",
      " '17.2 kmpl' '9.0 kmpl' '13.22 kmpl' '12.07 kmpl' '18.88 kmpl' '21.2 kmpl'\n",
      " '16.05 kmpl' '15.63 kmpl' '11.4 kmpl' '25.01 kmpl' '15.5 kmpl'\n",
      " '24.5 kmpl' '20.36 kmpl' '19.2 km/kg' '13.45 km/kg' '17.7 kmpl'\n",
      " '19.12 kmpl' '26.21 kmpl' '18.44 kmpl' '13.24 kmpl' '21.64 kmpl'\n",
      " '20.6 kmpl' '23.7 km/kg' '22.3 kmpl' '11.57 kmpl' '13.49 kmpl'\n",
      " '16.47 kmpl' '20.34 kmpl' '17.68 kmpl' '19.68 kmpl' '14.09 kmpl'\n",
      " '13.1 kmpl' '13.01 kmpl' '17.92 kmpl' '12.05 kmpl' '11.79 kmpl'\n",
      " '11.68 kmpl' '20.92 kmpl' '22.8 km/kg' '22.9 kmpl' '26.3 km/kg'\n",
      " '11.9 kmpl' '11.3 kmpl' '11.74 kmpl' '19.69 kmpl' '16.95 kmpl'\n",
      " '11.07 kmpl' '15.05 kmpl' '16.7 kmpl' '15.42 kmpl' '15.11 kmpl'\n",
      " '20.54 kmpl' '20.07 kmpl' '17.11 kmpl' '18.53 kmpl' '14.6 kmpl'\n",
      " '12.8 kmpl' '11.7 kmpl' '14.62 kmpl' '14.5 kmpl' '21.27 kmpl'\n",
      " '15.74 kmpl' '12.7 kmpl' '11.18 kmpl' '13.87 kmpl' '30.46 km/kg'\n",
      " '20.2 kmpl' '16.51 kmpl' '32.52 km/kg' '14.4 km/kg' '10.0 kmpl'\n",
      " '17.97 kmpl' '20.46 kmpl' '13.73 kmpl' '20.86 kmpl' '23.57 kmpl'\n",
      " '23.03 kmpl' '21.02 kmpl' '22.07 kmpl' '23.3 kmpl' '16.07 kmpl'\n",
      " '16.09 kmpl' '12.12 kmpl' '16.52 kmpl' '13.2 km/kg' '11.1 kmpl'\n",
      " '21.1 km/kg' '19.0 km/kg' '17.8 km/kg' '13.44 kmpl' '26.83 km/kg'\n",
      " '26.2 km/kg' '21.8 kmpl' '16.84 kmpl' '18.4 kmpl' '21.12 kmpl'\n",
      " '11.5 kmpl' '17.42 kmpl' '14.49 kmpl' '18.3 kmpl' '14.66 kmpl'\n",
      " '11.72 kmpl' '11.88 km/kg' '19.2 kmpl' '10.5 kmpl' '15.1 km/kg'\n",
      " '12.6 kmpl' '10.93 kmpl' '14.21 kmpl' '14.94 kmpl' '13.4 kmpl'\n",
      " '17.67 kmpl' '15.2 kmpl' '18.8 kmpl' '13.55 kmpl' '14.4 kmpl' '12.3 kmpl'\n",
      " '10.8 kmpl' '16.73 kmpl' '11.8 kmpl' '10.9 km/kg' '21.4 km/kg'\n",
      " '17.3 km/kg' '10.71 kmpl' '12.5 kmpl' '10.9 kmpl' '14.2 kmpl' '13.2 kmpl'\n",
      " '13.9 kmpl' '12.1 kmpl' '18.48 kmpl' '16.6 km/kg' '12.85 kmpl'\n",
      " '16.0 km/kg' '10.1 kmpl' '14.9 kmpl' '16.4 kmpl']\n",
      "--------------------------------------------------\n",
      "engine\n",
      "['999 CC' '1956 CC' '998 CC' '1451 CC' '1997 CC' '1197 CC' '2993 CC'\n",
      " '2198 CC' '1198 CC' '1194 CC' '1597 CC' '1396 CC' '1582 CC' '1086 CC'\n",
      " '1493 CC' '2523 CC' '2179 CC' '796 CC' '1196 CC' '1248 CC' '1462 CC'\n",
      " '1199 CC' '1193 CC' '2755 CC' '2393 CC' '2694 CC' '1498 CC' '1798 CC'\n",
      " '1995 CC' '799 CC' '1497 CC' '1799 CC' '1591 CC' '1186 CC' '1999 CC'\n",
      " '2999 CC' '1368 CC' '2487 CC' '2498 CC' '1298 CC' '1991 CC' '1461 CC'\n",
      " '1968 CC' '1598 CC' '1047 CC' '1969 CC' '1998 CC' '2596 CC' '2650 CC'\n",
      " '2200 CC' '1496 CC' '3198 CC' nan '1499 CC' '814 CC' '1120 CC' '909 CC'\n",
      " '2489 CC' '1373 CC' '2143 CC' '2148 CC' '624 CC' '2956 CC' '1364 CC'\n",
      " '1984 CC' '2354 CC' '2499 CC' '3604 CC' '1950 CC' '2987 CC' '1405 CC'\n",
      " '1794 CC' '2982 CC' '936 CC' '995 CC' '1994 CC' '2776 CC' '1172 CC'\n",
      " '1797 CC' '793 CC' '2477 CC' '2494 CC' '2967 CC' '2953 CC' '1399 CC'\n",
      " '1596 CC' '2199 CC' '1595 CC' '2496 CC' '2231 CC' '1388 CC' '1495 CC'\n",
      " '2609 CC' '2696 CC' '1586 CC' '2197 CC' '2359 CC' '1390 CC' '1948 CC'\n",
      " '1599 CC' '2497 CC' '2835 CC' '1896 CC' '1781 CC' '1150 CC' '1061 CC'\n",
      " '3498 CC' '2362 CC' '1339 CC' '1341 CC' '1422 CC' '1796 CC' '2092 CC'\n",
      " '1795 CC' '1527 CC' '993 CC' '1299 CC' '2997 CC' '1343 CC' '1590 CC'\n",
      " '2446 CC' '1489 CC']\n",
      "--------------------------------------------------\n",
      "max_power\n",
      "['71.01bhp' '167.67bhp' '118.35bhp' '58.33bhp' '141bhp' '113.98bhp'\n",
      " '296.3bhp' '81.80bhp' '265 bhp' '182.38bhp' '67.05 bhp' '67 bhp'\n",
      " '94.68 bhp' '118 bhp' '88.7 bhp' '126.2 bhp' '81.86 bhp' '68.07 bhp'\n",
      " '113.4 bhp' '70 bhp' '77 bhp' '140 bhp' '152.87 bhp' '47.3 bhp'\n",
      " '81.80 bhp' '67.04 bhp' '88.50 bhp' '73 bhp' '61.7 bhp' '88.5 bhp'\n",
      " '103.26 bhp' '141 bhp' '167.67 bhp' '108.5 bhp' '83.83 bhp' '174.5 bhp'\n",
      " '147.51 bhp' '163.7 bhp' '108.62 bhp' '108.6 bhp' '187.74 bhp' '190 bhp'\n",
      " '53.64 bhp' '94.93 bhp' '98.96 bhp' '121.31 bhp' '86.8 bhp' '98.63 bhp'\n",
      " '78.9 bhp' '88.76 bhp' '86.7 bhp' '98.6 bhp' '97.9 bhp' '117.6 bhp'\n",
      " '139.46 bhp' '121.3 bhp' '73.97 bhp' '82 bhp' '81.83 bhp' '68 bhp'\n",
      " '118.35 bhp' '147.9 bhp' '174.57 bhp' '160 bhp' '160.77 bhp' '170.63 bhp'\n",
      " '170 bhp' '148.31 bhp' '214.56 bhp' '62.1 bhp' '63 bhp' '121 bhp'\n",
      " '120 bhp' '105 bhp' '100 bhp' '115 bhp' '110 bhp' '155 bhp' '40.3 bhp'\n",
      " '58.3 bhp' '67.1 bhp' '83.1 bhp' '100.5 bhp' '103.25 bhp' '80 bhp'\n",
      " '74 bhp' '74.02 bhp' '58.16 bhp' '103.2 bhp' '194.4 bhp' '104.55 bhp'\n",
      " '53.3 bhp' '72 bhp' '71 bhp' '138.1 bhp' '147.94 bhp' '153.86 bhp'\n",
      " '84 bhp' '69 bhp' '83.81 bhp' '84.48 bhp' '171.5 bhp' '75 bhp'\n",
      " '73.75 bhp' '88 bhp' '143 bhp' '174.33 bhp' '181 bhp' '188 bhp'\n",
      " '261.4 bhp' '184 bhp' '80.8 bhp' '80.84 bhp' '139.01 bhp' '99.23 bhp'\n",
      " '89.84 bhp' '120.69 bhp' '121.36 bhp' '98.59 bhp' '197 bhp' '99 bhp' nan\n",
      " '98.97 bhp' '117.3 bhp' '68.05 bhp' '55.2 bhp' '88.73 bhp' '74.96 bhp'\n",
      " '45 bhp' '65 bhp' '138 bhp' '93.7 bhp' '91.1 bhp' '93.87 bhp' '103 bhp'\n",
      " '34.2 bhp' '85.8 bhp' '83.14 bhp' '85 bhp' '183 bhp' '84.8 bhp'\n",
      " '108.45 bhp' '104.5 bhp' '53.26 bhp' '83.8 bhp' '148 bhp' '177.46 bhp'\n",
      " '37.48 bhp' '138.03 bhp' '147.8 bhp' '105.5 bhp' '150 bhp' '235 bhp'\n",
      " '177.5 bhp' '76.8 bhp' '73.74 bhp' '67.06 bhp' '53 bhp' '110.5 bhp'\n",
      " '116.3 bhp' '187.4 bhp' '90 bhp' '126.32 bhp' '134 bhp' '177 bhp'\n",
      " '280 bhp' '35 bhp' '73.9 bhp' '0' '136 bhp' '194 bhp' '181.04 bhp'\n",
      " '254.79 bhp' '282 bhp' '76 bhp' '63.1 bhp' '103.6 bhp' '103.52 bhp'\n",
      " '64.1 bhp' '69.01 bhp' '86.79 bhp' '168.5 bhp' '108.495 bhp' '400 bhp'\n",
      " '189 bhp' '56.3 bhp' '82.4 bhp' '72.4 bhp' '105.3 bhp' '197.2 bhp'\n",
      " '91.72 bhp' '91.7 bhp' '110.4 bhp' '158 bhp' '147.5 bhp' '121.4 bhp'\n",
      " '161 bhp' '270.9 bhp' '118.3 bhp' '47 bhp' '88.8 bhp' '73.94 bhp'\n",
      " '85.80 bhp' '134.10 bhp' '204 bhp' '224 bhp' '175.56 bhp' '103.5 bhp'\n",
      " '48.21 bhp' '157.7 bhp' '78.8 bhp' '100.6 bhp' '189.3 bhp' '241.4 bhp'\n",
      " '73.8 bhp' '89.75 bhp' '113.42 bhp' '71.01 bhp' '187.7 bhp' '83.11 bhp'\n",
      " '203.2 bhp' '178 bhp' '102.5 bhp' '55.23 bhp' '37.5 bhp' '87.2 bhp'\n",
      " '142 bhp' '98.82 bhp' '82.5 bhp' '99.6 bhp' '123.37 bhp' '82.85 bhp'\n",
      " '194.3 bhp' '126.3 bhp' '95 bhp' '112 bhp' '46.3 bhp' '66.1 bhp'\n",
      " '80.9 bhp' '120.7 bhp' '201.1 bhp' '254.8 bhp' '97.7 bhp' '179.5 bhp'\n",
      " '168.7 bhp' '170.30 bhp' '241 bhp' '57.6 bhp' '79.4 bhp' '98.79 bhp'\n",
      " '76.9 bhp' '92 bhp' '156 bhp' '68.1 bhp' '177.6 bhp' '126.24 bhp'\n",
      " '162 bhp' '86 bhp' '37 bhp' '58.33 bhp' '63.12 bhp' '157.75 bhp'\n",
      " '65.3 bhp' '100.57 bhp' '102 bhp' '123.7 bhp' '62 bhp' '60.2 bhp'\n",
      " '116.4 bhp' '158.8 bhp' '82.9 bhp' '198.25 bhp' '38.4 bhp' '103.3 bhp'\n",
      " '58.2 bhp' '78 bhp' '64.4 bhp' '38 bhp' '68.4 bhp' '171 bhp' '169 bhp'\n",
      " '175 bhp' '167.6 bhp' '92.7 bhp' '91.2 bhp' '132 bhp' '88.2 bhp'\n",
      " '203 bhp' '165 bhp' '167.62 bhp' '116.9 bhp' '135.1 bhp' '138.08 bhp'\n",
      " '52.8 bhp' '53.5 bhp' '64.08 bhp' '163.2 bhp' '218 bhp' '258 bhp'\n",
      " '74.9 bhp' '101 bhp' '32.8 bhp' '104.68 bhp' '64 bhp' '57.5 bhp'\n",
      " '64.9 bhp' '106 bhp' '66 bhp' '130 bhp' '94 bhp' '272 bhp' '164.7 bhp'\n",
      " '52 bhp' '66.6 bhp' '116.6 bhp' '35.5 bhp' '125 bhp' '60 bhp' '152 bhp'\n",
      " '83 bhp' '186 bhp' '122.4 bhp' '127 bhp' '104 bhp' '144 bhp' '141.1 bhp'\n",
      " '112.2 bhp' '58 bhp' '149.5 bhp' '198.5 bhp' '57 bhp' ' bhp']\n",
      "--------------------------------------------------\n",
      "torque\n",
      "['96Nm' '350nm' '172Nm' '78Nm' '250Nm' '178Nm' '400Nm' '113Nm'\n",
      " '620Nm@ 1500-2500rpm' '450Nm' '104Nm@ 4000rpm' '91Nm@ 4250rpm'\n",
      " '120Nm@ 4250rpm' '300Nm@ 2000rpm' '219.7Nm@ 1500-2750rpm'\n",
      " '259.9Nm@ 1900-2750rpm' '117nm@ 4000rpm' '113.75Nm@ 4000rpm'\n",
      " '113.75nm@ 4000rpm' '99.07Nm@ 4500rpm' '250nm@ 1500-2750rpm'\n",
      " '200Nm@ 1400-2200rpm' '190Nm@ 1750-2250rpm' '320Nm@ 1500-2800rpm'\n",
      " '360Nm@ 1750-2800rpm' '69Nm@ 3500rpm' '90Nm@ 3500rpm' '113Nm@ 4200rpm'\n",
      " '113nm@ 4400rpm' '101Nm@ 3000rpm' '85Nm@ 3000rpm' '200Nm@ 1750rpm'\n",
      " '138nm@ 4400rpm' '250Nm@ 1600-3600rpm' '350Nm@ 1750-2500rpm'\n",
      " '170Nm@ 1750-4000rpm' '114Nm@ 3500rpm' '140Nm@ 1500-4000rpm'\n",
      " '450Nm@ 1600-2400rpm' '343Nm@ 1400-2800rpm' '360Nm@ 1400-2600rpm'\n",
      " '245Nm@ 4000rpm' '250Nm@ 1500-3000rpm' '175nm@ 1750-4000rpm'\n",
      " '230Nm@ 1500-2500rpm' '320Nm@ 1400-4100rpm' '400Nm@ 1750-2500rpm'\n",
      " '72Nm@ 4386rpm' '215Nm@ 1750-2500rpm' '205Nm@ 1750-3250rpm'\n",
      " '150Nm@ 4500rpm' '112Nm@ 4000rpm' '119Nm@ 4250rpm' '215Nm@ 1750-3000rpm'\n",
      " '160Nm@ 1750rpm' '110Nm@ 4800rpm' '109Nm@ 4500rpm' '145Nm@ 4600rpm'\n",
      " '174Nm@ 4300rpm' '151Nm@ 4850rpm' '224nm@ 1500-2750rpm'\n",
      " '219.66nm@ 1500-2750rpm' '114.73nm@ 4000rpm' '190.24nm@ 1750-2250rpm'\n",
      " '114Nm@ 4000rpm' '114.7Nm@ 4000rpm' '114.73Nm@ 4000rpm' '99Nm@ 4500rpm'\n",
      " '171.6Nm@ 1500-4000rpm' '219.66NM@ 1500-2750rpm' '259.87nm@ 1500-3000rpm'\n",
      " '190.25nm@ 1750-2250rpm' '350nm@ 1800-2600rpm' '380NM@ 1800-2800rpm'\n",
      " '250Nm@ 1750-2500rpm' '382nm@ 1750-2250rpm' '202Nm@ 3600-5200rpm'\n",
      " '195Nm@ 1400-2200rpm' '180Nm@ 1440-1500rpm' '115Nm@ 3500-3600rpm'\n",
      " '300Nm@ 1750-2500rpm' '280Nm@ 1800-2800rpm' '247Nm@ 1800-2000rpm'\n",
      " '182.5Nm@ 1500-1800rpm' '240Nm@ 1600-2800rpm' '300Nm@ 1500-2500rpm'\n",
      " '200Nm@ 2000-3500rpm' '330Nm@ 1600-2800rpm' '60Nm@ 3500rpm'\n",
      " '78Nm@ 3500rpm' '115Nm@ 4000rpm' '150Nm@ 1700-4500rpm' '138Nm@ 4400rpm'\n",
      " '103Nm@ 4500rpm' '90nm@ 3500rpm' '190Nm@ 2000rpm' '77Nm@ 3500rpm'\n",
      " '300Nm@ 1600-4000rpm' '142Nm@ 4000rpm' '240Nm@ 1750rpm' '96Nm@ 3500rpm'\n",
      " '320Nm@ 1750-3000rpm' '153Nm@ 3750-3800rpm' '190Nm@ 1750-3000rpm'\n",
      " '320Nm@ 1500-3000rpm' '260Nm@ 1500-2750rpm' '140Nm@ 1800-3000rpm'\n",
      " '113Nm@ 3300rpm' '113Nm@ 4400rpm' '360Nm@ 1200-3400rpm'\n",
      " '95Nm@ 3000-4300rpm' '110Nm@ 3750rpm' '110Nm@ 3000-4300rpm'\n",
      " '400Nm@ 1750-3000rpm' '380Nm@ 1750-2500rpm' '380Nm@ 1750-3000rpm'\n",
      " '400nm@ 1750-3000rpm' '620Nm@ 2000-2500rpm' '380Nm@ 1750-2750rpm'\n",
      " '400nm@ 1750-2500rpm' '230Nm@ 1800-2000rpm' '321Nm@ 1600-2400rpm'\n",
      " '204Nm@ 2000-2750rpm' '149Nm@ 4500rpm' '470Nm@ 1750-2500rpm' nan\n",
      " '215nm@ 1750-2500rpm' '151NM@ 4850rpm' '94.14Nm@ 3500rpm'\n",
      " '74.5Nm@ 4000rpm' '132.3Nm@ 4000rpm' '180.4Nm@ 1750-2500rpm'\n",
      " '210nm@ 1600-2200rpm' '98Nm@ 1600-3000rpm' '160Nm@ 2000rpm'\n",
      " '320Nm@ 1600-2800rpm' '218Nm@ 1400-2600rpm' '130Nm@ 4000rpm'\n",
      " '225Nm@ 1500-2500rpm' '59Nm@ 2500rpm' '113Nm@ 4,500rpm'\n",
      " '300Nm@ 1200-4000rpm' '400Nm@ 1400-2800rpm' '42@ 2,000(kgm@ rpm)'\n",
      " '200Nm@ 2000rpm' '245Nm@ 1750rpm' '200Nm@ 1900rpm' '340nm@ 1750-3000rpm'\n",
      " '250Nm@ 1500-2500rpm' '250@ 1250-5000rpm' '51Nm@ 4000rpm'\n",
      " '250Nm@ 1000-2000rpm' '173Nm@ 4000rpm' '170Nm@ 1800-2400rpm'\n",
      " '420Nm@ 1400-2600rpm' '140Nm@ 4200rpm' '350Nm@ 1500-2750rpm' '480Nm'\n",
      " '250Nm@ 1250-5000rpm' '400Nm@ 1750-2750rpm' '106.5Nm@ 4400rpm'\n",
      " '172.5Nm@ 1750rpm' '72Nm@ 4388rpm' '136Nm@ 4250rpm' '146Nm at 4800 rpm'\n",
      " '146Nm@ 4800rpm' '226Nm@ 4400rpm' '259.87NM@ 1500-3000rpm'\n",
      " '99.04Nm@ 4500rpm' '22.4 kgm at 1750-2750rpm' '220Nm@ 1500-2750rpm'\n",
      " '11.4 kgm at 4,000 rpm' '219.7Nm@ 1750-2750rpm' '259.8Nm@ 1900-2750rpm'\n",
      " '154.9Nm@ 4200rpm' '320Nm@ 1800-2800rpm' '430Nm@ 1750-2500rpm'\n",
      " '347Nm@ 4300rpm' '230Nm@ 1500-2250rpm' '83Nm@ 3000rpm' '6.1kgm@ 3000rpm'\n",
      " '300Nm@ 1600-3000rpm' '400nm@ 2800rpm' '300Nm@ 1200-1400rpm'\n",
      " '620Nm@ 1600-2400rpm' '490Nm@ 1600rpm' '104Nm@ 4400rpm' '248Nm@ 2250rpm'\n",
      " '100Nm@ 2700rpm' '135Nm@ 2500rpm' '320Nm@ 1700-2700rpm'\n",
      " '223Nm@ 1600-2200rpm' '205Nm@ 1800-2800rpm' '104Nm@ 3100rpm'\n",
      " '132Nm@ 3000rpm' '360Nm@ 1400-3200rpm' '640Nm@ 1740rpm'\n",
      " '280Nm@ 1350-4600rpm' '142.5Nm@ 1750rpm' '360Nm@ 2000rpm'\n",
      " '108.5Nm@ 5000rpm' '190Nm@ 1750rpm' '90.3Nm@ 4200rpm' '171Nm@ 1800rpm'\n",
      " '263.7Nm@ 2500rpm' '500Nm@ 2000rpm' '209Nm@ 2000rpm' '96Nm@ 2500rpm'\n",
      " '140Nm@ 4400rpm' '385Nm@ 1600-2500rpm' '190Nm@ 4300rpm'\n",
      " '177.5Nm@ 4700rpm' '160Nm@ 1500-2750rpm' '400Nm@ 175-2750rpm'\n",
      " '135.3Nm@ 5000rpm' '333Nm@ 1600-3200rpm' '600Nm@ 2000rpm'\n",
      " '195Nm@ 1440-2200rpm' '280Nm@ 2400-2800rpm' '125Nm@ 2000rpm'\n",
      " '500Nm@ 1600-1800rpm' '510Nm@ 1600-2800rpm' '400Nm@ 2000-2500rpm'\n",
      " '153Nm@ 3800rpm' '85Nm@ 2500rpm' '200Nm@ 1750-3000rpm' '213Nm@ 4500rpm'\n",
      " '200Nm@ 1200-3600rpm' '250Nm@ 1250-5300rpm' '320Nm@ 1750-2500rpm'\n",
      " '250nm@ 1500-3000rpm' '175Nm@ 1500-4100rpm' '580Nm@ 1400-3250rpm'\n",
      " '550Nm@ 1750-2750rpm' '197Nm@ 1750rpm' '380Nm@ 2500rpm'\n",
      " '259.88Nm@ 1900-2750rpm' '111.7Nm@ 4000rpm' '96.1Nm@ 3000rpm'\n",
      " '144.15nm@ 4500rpm' '450Nm@ 2000rpm' '145Nm@ 3750rpm' '90Nm@ 2650rpm'\n",
      " '135.4Nm@ 2500rpm' '51Nm@ 4000+/-500rpm' '320Nm@ 1750-2700rpm'\n",
      " '343Nm@ 1600-2800rpm' '343Nm@ 1400-3400rpm' '200Nm@ 1400-3400rpm'\n",
      " '131Nm@ 4400rpm' '146Nm@ 3400rpm' '170Nm@ 1400-4500rpm' '330Nm@ 1800rpm'\n",
      " '159.8Nm@ 1500-2750rpm' '111.8Nm@ 4000rpm' '113.7Nm@ 4000rpm'\n",
      " '219.6Nm@ 1750-2750rpm' '436.39Nm@ 1800-2500rpm' '420.7Nm@ 1800-2500rpm'\n",
      " '290Nm@ 1800-2800rpm' '220Nm at 1400-2600 rpm' '260Nm@ 1800-2200rpm'\n",
      " '62Nm@ 3000rpm' '110Nm@ 4000rpm' '200Nm@ 1250-4000rpm'\n",
      " '619Nm@ 1600-2400rpm' '134Nm@ 4000rpm' '228Nm@ 4400rpm' '96Nm@ 3000rpm'\n",
      " '410Nm@ 1600-2800rpm' '175nm@ 1500-4100rpm' '185Nm@ 1750-2750rpm'\n",
      " '51@ 1,750-3,000(kgm@ rpm)' '540Nm@ 2000rpm' '150Nm@ 1750rpm'\n",
      " '108Nm@ 4400rpm' '424Nm@ 2000rpm' '205Nm@ 1750rpm' '113Nm@ 5000rpm'\n",
      " '380Nm(38.7kgm)@ 2500rpm' '222Nm@ 4300rpm' '124.6Nm@ 3500rpm'\n",
      " '259.87Nm@ 1900-2750rpm' '219.6Nm@ 1500-2750rpm' '136.3Nm@ 4200rpm'\n",
      " '219.9Nm@ 1750-2750rpm' '250.06nm@ 1500-2750rpm' '400 Nm /2000 rpm'\n",
      " '420Nm@ 2000rpm' '277.5Nm@ 1700-2200rpm' '340Nm@ 1800-3250rpm'\n",
      " '402Nm@ 1600-3000rpm' '128Nm@ 3100rpm' '260 Nm at 1800-2200 rpm'\n",
      " '62Nm@ 2500rpm' '113Nm@ 4500rpm' '145Nm@ 4100rpm' '85Nm@ 3500rpm'\n",
      " '240Nm@ 1850rpm' '320Nm@ 2000rpm' '180Nm@ 2000rpm' '250Nm@ 1500-4500rpm'\n",
      " '10.2@ 2,600(kgm@ rpm)' '20.4@ 1400-3400(kgm@ rpm)' '380Nm@ 1750rpm'\n",
      " '380Nm@ 2000rpm' '305Nm@ 2000rpm' '102Nm@ 4000rpm' '218Nm@ 4200rpm'\n",
      " '124.5Nm@ 3500rpm' '99.1Nm@ 4500rpm' '113.8Nm@ 4000rpm'\n",
      " '9.8@ 3,000(kgm@ rpm)' '250Nm@ 4250rpm' '110Nm@ 3000rpm' '240Nm@ 2000rpm'\n",
      " '12.4@ 2,600(kgm@ rpm)' '99.8Nm@ 2700rpm' '135 Nm at 2500 rpm'\n",
      " '190 Nm at 1750 rpm ' '13.5@ 2,500(kgm@ rpm)' '135.4Nm@ 2500'\n",
      " '13.5@ 2500(kgm@ rpm)' '116Nm@ 4750rpm' '115@ 2,500(kgm@ rpm)'\n",
      " '250 Nm at 1,500-3,000 rpm' '350Nm@ 1500-3500rpm'\n",
      " '36.6@ 1,750-2,500(kgm@ rpm)' '127Nm@ 3500rpm' '327Nm@ 2600rpm'\n",
      " '19@ 1,800(kgm@ rpm)' '16.3@ 2,000(kgm@ rpm)' '17.5@ 4,300(kgm@ rpm)'\n",
      " '110(11.2)@ 4800' '436.4Nm@ 1800-2500rpm' '24 KGM at 1900-2750 RPM'\n",
      " '14.9 KGM at 3000 RPM' '180 Nm at 1440-1500rpm' '16@ 2,000(kgm@ rpm)'\n",
      " '11.5@ 4,500(kgm@ rpm)' '245Nm@ 5000rpm' '510@ 1600-2400'\n",
      " '292Nm@ 2000rpm' '190Nm@ 3700rpm' '180 Nm at 2000rpm'\n",
      " '8.5@ 2,500(kgm@ rpm)' '190 Nm at 1750  rpm ' '135 Nm at 2500  rpm '\n",
      " '96 Nm at 3000 rpm' '96  Nm at 3000  rpm ' '190 Nm at 1750 rpm'\n",
      " '10.7@ 2,600(kgm@ rpm)' '12@ 3,500(kgm@ rpm)' '48Nm@ 3000rpm'\n",
      " '4.8kgm@ 3000rpm' '25.5@ 1,900(kgm@ rpm)' '22.9@ 1,950-4,700(kgm@ rpm)'\n",
      " '250 Nm at 2750 rpm' '450Nm@ 1750-2500rpm' '560Nm@ 1500rpm'\n",
      " '11.2@ 4,400(kgm@ rpm)' '110Nm@ 4400rpm' '148Nm@ 4000rpm'\n",
      " '115Nm@ 4500rpm' '14.9@ 3,400(kgm@ rpm)' '215Nm@ 1750-3000'\n",
      " '32.1kgm@ 2000rpm' '24@ 1,900-2,750(kgm@ rpm)' '110@ 3,000(kgm@ rpm)'\n",
      " '6@ 2,500(kgm@ rpm)' '57Nm@ 2500rpm' '190 Nm at 2000rpm'\n",
      " '145@ 4,100(kgm@ rpm)' '8.6@ 3,500(kgm@ rpm)' '84Nm@ 3500rpm'\n",
      " '7.8@ 4,500(kgm@ rpm)' '210 / 1900' '14.3@ 1,800-3,000(kgm@ rpm)'\n",
      " '48@ 3,000+/-500(NM@ rpm)' '190Nm@ 2000-3000' '190Nm@ 2000-3000rpm'\n",
      " '170Nm@ 4200rpm' '15@ 3,800(kgm@ rpm)' '250Nm@ 1500~4500rpm'\n",
      " '9.2@ 4,200(kgm@ rpm)' '33.7@ 1,800(kgm@ rpm)' '130@ 2500(kgm@ rpm)'\n",
      " '172Nm@ 4300rpm' '12.5@ 3,500(kgm@ rpm)' '13.9 kgm at 4200 rpm'\n",
      " '33@ 2,000-2,680(kgm@ rpm)' '14.9@ 3,000(kgm@ rpm)' '11@ 3,000(kgm@ rpm)'\n",
      " '355Nm@ 4500rpm' '102Nm@ 2600rpm' '12.5@ 2,500(kgm@ rpm)'\n",
      " '224Nm@ 4000rpm' '106Nm@ 2200rpm' '35.7@ 1,750-3,000(kgm@ rpm)'\n",
      " '53@ 2,000-2,750(kgm@ rpm)' '12.7@ 2,700(kgm@ rpm)' '123Nm@ 1000-2500rpm'\n",
      " '10.4@ 3,200(kgm@ rpm)' '11.8@ 3,200(kgm@ rpm)' '11.4@ 4,000(kgm@ rpm)'\n",
      " '23.6@ 4,250(kgm@ rpm)' '28.3@ 1,700-2,200(kgm@ rpm)'\n",
      " '5.7@ 2,500(kgm@ rpm)' '6.1@ 3,000(kgm@ rpm)' '12.5@ 3,000(kgm@ rpm)'\n",
      " '155 Nm at 1600-2800 rpm' '13@ 2,500(kgm@ rpm)' '124Nm@ 3500rpm'\n",
      " '25.5@ 1,500-3,000(kgm@ rpm)' '16.1@ 4,200(kgm@ rpm)' '88.4Nm@ 4200rpm'\n",
      " '215Nm@ 3600rpm' '115Nm@ 3200rpm' '110Nm@ 4500rpm'\n",
      " '24.5@ 3,500-4,500(kgm@ rpm)' '285Nm@ 2400-4000rpm'\n",
      " '21.4@ 1,900(kgm@ rpm)' '20@ 3,750(kgm@ rpm)' '18@ 1,600-2,200(kgm@ rpm)'\n",
      " '148Nm@ 3500rpm' '20@ 4,700(kgm@ rpm)' '13.5@ 4,800(kgm@ rpm)'\n",
      " '190Nm@ 4200rpm' '187Nm@ 2500rpm' '12.5kgm@ 3500rpm'\n",
      " '25@ 1,800-2,800(kgm@ rpm)' '16.6@ 4,500(kgm@ rpm)' '176Nm@ 1500rpm'\n",
      " '789Nm@ 2250rpm' '78Nm@ 4500rpm' '21.4@ 1,750-4,600(kgm@ rpm)'\n",
      " '115@ 2500(kgm@ rpm)' '10.7@ 2,500(kgm@ rpm)' '196Nm@ 5000rpm'\n",
      " '11.3kgm@ 4700rpm' '13.1kgm@ 4600rpm' '130Nm@ 3000rpm'\n",
      " '46.5@ 1,400-2,800(kgm@ rpm)' '190@ 21,800(kgm@ rpm)'\n",
      " '250Nm@ 1600-2000rpm' '151Nm@ 2400rpm' '71Nm@ 3500rpm' '72.9Nm@ 2250rpm'\n",
      " '12@ 2500(kgm@ rpm)' '121Nm@ 2800rpm']\n",
      "--------------------------------------------------\n"
     ]
    }
   ],
   "source": [
    "for i in df.describe(include='object').columns:\n",
    "    print(i)\n",
    "    print(df[i].unique())\n",
    "    print('-'*50)"
   ]
  },
  {
   "cell_type": "code",
   "execution_count": 13,
   "id": "a9d14a5f",
   "metadata": {},
   "outputs": [],
   "source": [
    "df.dropna(inplace=True)"
   ]
  },
  {
   "cell_type": "code",
   "execution_count": 14,
   "id": "194fca2b",
   "metadata": {},
   "outputs": [
    {
     "data": {
      "text/plain": [
       "Name             0\n",
       "year             0\n",
       "selling_price    0\n",
       "km_driven        0\n",
       "fuel             0\n",
       "seller_type      0\n",
       "transmission     0\n",
       "owner            0\n",
       "mileage          0\n",
       "engine           0\n",
       "max_power        0\n",
       "torque           0\n",
       "seats            0\n",
       "dtype: int64"
      ]
     },
     "execution_count": 14,
     "metadata": {},
     "output_type": "execute_result"
    }
   ],
   "source": [
    "pd.isnull(df).sum()"
   ]
  },
  {
   "cell_type": "code",
   "execution_count": 15,
   "id": "4627e675",
   "metadata": {},
   "outputs": [
    {
     "data": {
      "text/plain": [
       "(7926, 13)"
      ]
     },
     "execution_count": 15,
     "metadata": {},
     "output_type": "execute_result"
    }
   ],
   "source": [
    "df.shape"
   ]
  },
  {
   "cell_type": "markdown",
   "id": "32ac1be3",
   "metadata": {},
   "source": [
    "# ANALYSIS AND FINDINGS"
   ]
  },
  {
   "cell_type": "markdown",
   "id": "cbd054bb",
   "metadata": {},
   "source": [
    "# How does the age (year) of the car influence its selling price?"
   ]
  },
  {
   "cell_type": "code",
   "execution_count": 19,
   "id": "7b190d78",
   "metadata": {},
   "outputs": [],
   "source": [
    "current_year = 2023\n",
    "df['car_age'] = current_year - df['year']"
   ]
  },
  {
   "cell_type": "code",
   "execution_count": 20,
   "id": "7a643939",
   "metadata": {},
   "outputs": [],
   "source": [
    "age_selling_price = df.groupby('car_age')['selling_price'].mean().reset_index()"
   ]
  },
  {
   "cell_type": "code",
   "execution_count": 56,
   "id": "2de83ab7",
   "metadata": {},
   "outputs": [
    {
     "data": {
      "image/png": "[encoded data removed]",
      "text/plain": [
       "<Figure size 1000x600 with 1 Axes>"
      ]
     },
     "metadata": {},
     "output_type": "display_data"
    }
   ],
   "source": [
    "plt.figure(figsize=(10, 6))\n",
    "plt.plot(age_selling_price['car_age'], age_selling_price['selling_price'], marker='o', linestyle='-',color='orange')\n",
    "plt.xlabel('Car Age (Years)')\n",
    "plt.ylabel('Average Selling Price')\n",
    "plt.title('Age vs. Selling Price')\n",
    "plt.grid(True)\n",
    "plt.show()"
   ]
  },
  {
   "cell_type": "markdown",
   "id": "e2a77051",
   "metadata": {},
   "source": [
    "The graph clearly illustrates a strong negative correlation between the age of the car and its selling price. As the car's age increases, the selling price tends to decrease. Conversely, as the car's age decreases, the selling price tends to increase. This indicates that older cars generally have a lower resale value compared to newer ones.\""
   ]
  },
  {
   "cell_type": "markdown",
   "id": "49318ccd",
   "metadata": {},
   "source": [
    "# What is the correlation between the distance covered (km_driven) by a car and its selling price? "
   ]
  },
  {
   "cell_type": "code",
   "execution_count": 57,
   "id": "94d462a4",
   "metadata": {},
   "outputs": [
    {
     "data": {
      "image/png": "[encoded data removed]",
      "text/plain": [
       "<Figure size 1000x600 with 1 Axes>"
      ]
     },
     "metadata": {},
     "output_type": "display_data"
    }
   ],
   "source": [
    "plt.figure(figsize=(10, 6))\n",
    "plt.scatter(df['km_driven'], df['selling_price'], alpha=0.5,color = 'orange')\n",
    "plt.xlabel('Kilometers Driven')\n",
    "plt.ylabel('Selling Price')\n",
    "plt.title('Kilometers Driven vs. Selling Price')\n",
    "\n",
    "plt.show()"
   ]
  },
  {
   "cell_type": "code",
   "execution_count": 23,
   "id": "6bc4502a",
   "metadata": {},
   "outputs": [
    {
     "name": "stdout",
     "output_type": "stream",
     "text": [
      "Correlation Coefficient: -0.22342208064519567\n"
     ]
    }
   ],
   "source": [
    "correlation_coefficient = df['km_driven'].corr(df['selling_price'])\n",
    "print(\"Correlation Coefficient:\", correlation_coefficient)"
   ]
  },
  {
   "cell_type": "markdown",
   "id": "92c6a7e0",
   "metadata": {},
   "source": [
    "The correlation coefficient of -0.223 suggests that there is a weak negative relationship between the number of kilometers driven and the selling price of used cars. As the kilometers driven increase, there is a slight tendency for the selling price to decrease slightly. However, the correlation is not strong, meaning that the influence of kilometers driven on the selling price is not very pronounced."
   ]
  },
  {
   "cell_type": "markdown",
   "id": "31258490",
   "metadata": {},
   "source": [
    "#  Does the type of fuel (petrol, diesel, CNG, etc.) impact the selling price of cars?"
   ]
  },
  {
   "cell_type": "code",
   "execution_count": 59,
   "id": "470119ae",
   "metadata": {},
   "outputs": [
    {
     "data": {
      "image/png": "[encoded data removed]",
      "text/plain": [
       "<Figure size 1000x600 with 1 Axes>"
      ]
     },
     "metadata": {},
     "output_type": "display_data"
    }
   ],
   "source": [
    "colors = ['darkorange', 'orange', 'lightcoral', 'lightsalmon', 'peachpuff']\n",
    "\n",
    "plt.figure(figsize=(10, 6))\n",
    "plt.bar(fuel_selling_price['fuel'], fuel_selling_price['selling_price'], color=colors)\n",
    "plt.xlabel('Fuel Type')\n",
    "plt.ylabel('Average Selling Price')\n",
    "plt.title('Fuel Type vs. Average Selling Price')\n",
    "plt.show()"
   ]
  },
  {
   "cell_type": "markdown",
   "id": "809248fe",
   "metadata": {},
   "source": [
    "This graph suggests that electric cars tend to have the highest average selling price, followed by diesel, petrol, CNG, and LPG cars."
   ]
  },
  {
   "cell_type": "markdown",
   "id": "786a9464",
   "metadata": {},
   "source": [
    "# What is the effect of the seller type (individual, dealer) on the selling price of cars?"
   ]
  },
  {
   "cell_type": "code",
   "execution_count": 33,
   "id": "1c723e08",
   "metadata": {},
   "outputs": [],
   "source": [
    "seller_type_selling_price = df.groupby('seller_type')['selling_price'].mean().reset_index()"
   ]
  },
  {
   "cell_type": "code",
   "execution_count": 60,
   "id": "5cd058eb",
   "metadata": {},
   "outputs": [
    {
     "data": {
      "image/png": "[encoded data removed]",
      "text/plain": [
       "<Figure size 800x600 with 1 Axes>"
      ]
     },
     "metadata": {},
     "output_type": "display_data"
    }
   ],
   "source": [
    "colors = ['darkorange', 'orange', 'lightcoral', 'lightsalmon', 'peachpuff']\n",
    "plt.figure(figsize=(8, 6))\n",
    "plt.bar(seller_type_selling_price['seller_type'], seller_type_selling_price['selling_price'], color = colors)\n",
    "plt.xlabel('Seller Type')\n",
    "plt.ylabel('Average Selling Price')\n",
    "plt.title('Seller Type vs. Average Selling Price')\n",
    "\n",
    "plt.show()"
   ]
  },
  {
   "cell_type": "markdown",
   "id": "b1269b8a",
   "metadata": {},
   "source": [
    "The analysis reveals that the average selling price of cars is highest for dealers, followed by trustmark dealers, and then individual sellers. Dealerships' higher prices may be attributed to professional services and added value, while individual sellers' lower prices could be due to more competitive pricing and fewer services offered. Seller type significantly influences the selling price in the used car market."
   ]
  },
  {
   "cell_type": "markdown",
   "id": "363449dd",
   "metadata": {},
   "source": [
    "# Does the number of previous owners (owner) impact the resale value of a car? Are single-owner cars more desirable to buyers, resulting in a higher selling price?"
   ]
  },
  {
   "cell_type": "code",
   "execution_count": 53,
   "id": "f41c879b",
   "metadata": {},
   "outputs": [],
   "source": [
    "owner_selling_price = df.groupby('owner')['selling_price'].mean().reset_index()\n"
   ]
  },
  {
   "cell_type": "code",
   "execution_count": 61,
   "id": "320ab839",
   "metadata": {},
   "outputs": [
    {
     "data": {
      "image/png": "[encoded data removed]",
      "text/plain": [
       "<Figure size 800x600 with 1 Axes>"
      ]
     },
     "metadata": {},
     "output_type": "display_data"
    }
   ],
   "source": [
    "colors = ['darkorange', 'orange', 'lightcoral', 'lightsalmon', 'peachpuff']\n",
    "plt.figure(figsize=(8, 6))\n",
    "plt.bar(owner_selling_price['owner'], owner_selling_price['selling_price'], color = colors)\n",
    "plt.xlabel('Number of Previous Owners')\n",
    "plt.ylabel('Average Selling Price')\n",
    "plt.title('Number of Previous Owners vs. Average Selling Price')\n",
    "\n",
    "plt.show()"
   ]
  },
  {
   "cell_type": "markdown",
   "id": "91a845cb",
   "metadata": {},
   "source": [
    "The resale value of used cars is influenced by the number of previous owners. Test drive cars have the highest average selling price, likely due to being newer, having lower mileage, and potentially being covered under warranties, making them attractive to buyers. First owner cars come next with a higher resale value as they are often well-maintained and instill buyer confidence. Second owner cars have a slightly lower average selling price but are still relatively well-maintained. However, as the number of previous owners increases, the average selling price declines, with third owner cars having a lower resale value. Cars with four or more previous owners have the lowest average selling price, which could be attributed to perceived wear and tear, leading to buyer caution in such cases."
   ]
  },
  {
   "cell_type": "markdown",
   "id": "8d32262b",
   "metadata": {},
   "source": [
    "# SUGGESTIONS"
   ]
  },
  {
   "cell_type": "code",
   "execution_count": null,
   "id": "8f35a7b9",
   "metadata": {},
   "outputs": [],
   "source": []
  }
 ],
 "metadata": {
  "kernelspec": {
   "display_name": "Python 3 (ipykernel)",
   "language": "python",
   "name": "python3"
  },
  "language_info": {
   "codemirror_mode": {
    "name": "ipython",
    "version": 3
   },
   "file_extension": ".py",
   "mimetype": "text/x-python",
   "name": "python",
   "nbconvert_exporter": "python",
   "pygments_lexer": "ipython3",
   "version": "3.11.4"
  }
 },
 "nbformat": 4,
 "nbformat_minor": 5
}
